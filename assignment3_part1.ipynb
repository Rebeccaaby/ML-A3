{
 "cells": [
  {
   "cell_type": "code",
   "execution_count": 1,
   "metadata": {
    "colab": {
     "base_uri": "https://localhost:8080/"
    },
    "id": "1De30ou6Lysx",
    "outputId": "e350554c-0db3-4acd-b4c6-17949d748167"
   },
   "outputs": [
    {
     "name": "stdout",
     "output_type": "stream",
     "text": [
      "Collecting gymnasium\n",
      "  Downloading gymnasium-1.0.0-py3-none-any.whl.metadata (9.5 kB)\n",
      "Requirement already satisfied: numpy>=1.21.0 in /usr/local/lib/python3.10/dist-packages (from gymnasium) (1.26.4)\n",
      "Requirement already satisfied: cloudpickle>=1.2.0 in /usr/local/lib/python3.10/dist-packages (from gymnasium) (3.1.0)\n",
      "Requirement already satisfied: typing-extensions>=4.3.0 in /usr/local/lib/python3.10/dist-packages (from gymnasium) (4.12.2)\n",
      "Collecting farama-notifications>=0.0.1 (from gymnasium)\n",
      "  Downloading Farama_Notifications-0.0.4-py3-none-any.whl.metadata (558 bytes)\n",
      "Downloading gymnasium-1.0.0-py3-none-any.whl (958 kB)\n",
      "\u001b[2K   \u001b[90m━━━━━━━━━━━━━━━━━━━━━━━━━━━━━━━━━━━━━━━━\u001b[0m \u001b[32m958.1/958.1 kB\u001b[0m \u001b[31m9.7 MB/s\u001b[0m eta \u001b[36m0:00:00\u001b[0m\n",
      "\u001b[?25hDownloading Farama_Notifications-0.0.4-py3-none-any.whl (2.5 kB)\n",
      "Installing collected packages: farama-notifications, gymnasium\n",
      "Successfully installed farama-notifications-0.0.4 gymnasium-1.0.0\n"
     ]
    }
   ],
   "source": [
    "# Install required libraries\n",
    "!pip install gymnasium"
   ]
  },
  {
   "cell_type": "code",
   "execution_count": 2,
   "metadata": {
    "id": "vzLSDtlzL3mt"
   },
   "outputs": [],
   "source": [
    "# Import required libraries\n",
    "import cv2\n",
    "import gymnasium as gym\n",
    "from gymnasium import spaces\n",
    "import matplotlib.pyplot as plt\n",
    "from matplotlib.offsetbox import OffsetImage, AnnotationBbox\n",
    "import numpy as np"
   ]
  },
  {
   "cell_type": "code",
   "execution_count": 3,
   "metadata": {
    "colab": {
     "base_uri": "https://localhost:8080/"
    },
    "id": "sUTf4wQbH5ME",
    "outputId": "ed107dbf-73bd-4756-ee38-6da2715ae670"
   },
   "outputs": [
    {
     "name": "stdout",
     "output_type": "stream",
     "text": [
      "[[0. 0. 0.]\n",
      " [0. 0. 0.]\n",
      " [0. 0. 0.]]\n"
     ]
    }
   ],
   "source": [
    "grid = np.zeros((3,3)) #this is how you define a 3x3 grid\n",
    "print(grid)"
   ]
  },
  {
   "cell_type": "code",
   "execution_count": 4,
   "metadata": {
    "colab": {
     "base_uri": "https://localhost:8080/",
     "height": 453
    },
    "id": "FHmgpc4gH5ME",
    "outputId": "31b6c323-8066-46f0-b29b-2ee7e9cf3043"
   },
   "outputs": [
    {
     "data": {
      "text/plain": [
       "<matplotlib.image.AxesImage at 0x782a514ddc30>"
      ]
     },
     "execution_count": 4,
     "metadata": {},
     "output_type": "execute_result"
    },
    {
     "data": {
      "image/png": "[encoded data removed]",
      "text/plain": [
       "<Figure size 640x480 with 1 Axes>"
      ]
     },
     "metadata": {},
     "output_type": "display_data"
    }
   ],
   "source": [
    "pos1 = [0,0] #start position of our agent\n",
    "pos2 = [2,2] #goal position of our agent\n",
    "grid[tuple(pos1)] = 1\n",
    "grid[tuple(pos2)] = 0.8\n",
    "\n",
    "plt.imshow(grid)"
   ]
  },
  {
   "cell_type": "code",
   "execution_count": 5,
   "metadata": {
    "id": "vNy_7i2jL8VQ"
   },
   "outputs": [],
   "source": [
    "# Definition of the Grid Environment class.\n",
    "\n",
    "class GridEnvironment(gym.Env):\n",
    "    # Attribute of a Gym class that provides info about the render modes\n",
    "    metadata = { 'render.modes': [] }\n",
    "\n",
    "    # Initialization function\n",
    "    def __init__(self):\n",
    "\n",
    "      self.environment_width = 5\n",
    "      self.environment_height = 5\n",
    "\n",
    "      self.observation_space = spaces.Discrete(self.environment_width * self.environment_height)\n",
    "      self.action_space = spaces.Discrete(4)\n",
    "      self.max_timesteps = 10\n",
    "\n",
    "      self.timestep = 0\n",
    "      self.agent_pos = [4, 0]\n",
    "      self.goal_pos = [1, 3]\n",
    "      self.battery_pos = [1, 0]\n",
    "      self.super_battery_pos = [1, 2]\n",
    "      self.rock1_pos = [4, 2]\n",
    "      self.rock2_pos = [3, 3]\n",
    "      self.battery_quantity = 1\n",
    "      self.super_battery_quantity = 1\n",
    "      self.rock1_quantity = 1\n",
    "      self.rock2_quantity = 1\n",
    "      self.state = np.zeros((5,5))\n",
    "      self.state[tuple(self.agent_pos)] = 1\n",
    "      self.state[tuple(self.battery_pos)] = 2\n",
    "      self.state[tuple(self.super_battery_pos)] = 3\n",
    "      self.state[tuple(self.rock1_pos)] = 4\n",
    "      self.state[tuple(self.rock2_pos)] = 4\n",
    "      self.state[tuple(self.goal_pos)] = 5\n",
    "\n",
    "    # Reset function\n",
    "    def reset(self, **kwargs):\n",
    "      self.timestep = 0\n",
    "      self.agent_pos = [4, 0]\n",
    "      self.goal_pos = [1, 3]\n",
    "      self.battery_pos = [1, 0]\n",
    "      self.super_battery_pos = [1, 2]\n",
    "      self.rock1_pos = [4, 2]\n",
    "      self.rock2_pos = [3, 3]\n",
    "      self.battery_quantity = 1\n",
    "      self.super_battery_quantity = 1\n",
    "      self.rock1_quantity = 1\n",
    "      self.rock2_quantity = 1\n",
    "      self.state = np.zeros((5,5))\n",
    "      self.state[tuple(self.agent_pos)] = 1\n",
    "      self.state[tuple(self.battery_pos)] = 2\n",
    "      self.state[tuple(self.super_battery_pos)] = 3\n",
    "      self.state[tuple(self.rock1_pos)] = 4\n",
    "      self.state[tuple(self.rock2_pos)] = 4\n",
    "      self.state[tuple(self.goal_pos)] = 5\n",
    "      observation = self.state.flatten()\n",
    "\n",
    "      info = {}\n",
    "\n",
    "      return observation, info\n",
    "\n",
    "    # Step function: Contains the implementation for what happens when an\n",
    "    # agent takes a step in the environment.\n",
    "    def step(self, action):\n",
    "\n",
    "      if action == 0: #down\n",
    "        self.agent_pos[0] += 1\n",
    "      if action == 1: #up\n",
    "        self.agent_pos[0] -= 1\n",
    "      if action == 2: #right\n",
    "        self.agent_pos[1] += 1\n",
    "      if action == 3: #left\n",
    "        self.agent_pos[1] -= 1\n",
    "\n",
    "      # Comment this to demonstrate the truncation condition.\n",
    "      #self.agent_pos = np.clip(self.agent_pos, 0, 4)\n",
    "\n",
    "      reward = 0\n",
    "\n",
    "      # Condition to check if agent is traversing to a cell beyond the permitted cells\n",
    "      # This helps the agent to learn how to behave in a safe and predictable manner\n",
    "      truncated = False if np.all((np.asarray(self.agent_pos) >= 0 ) & (np.asarray(self.agent_pos) <= 4)) else True\n",
    "\n",
    "      if truncated:\n",
    "        self.agent_pos = np.clip(self.agent_pos, 0, 4)\n",
    "        reward -= 100\n",
    "\n",
    "      self.state = np.zeros((5,5))\n",
    "      self.state[tuple(self.agent_pos)] = 1\n",
    "      if (self.battery_quantity > 0):\n",
    "        if np.array_equal(self.agent_pos, self.battery_pos):\n",
    "          self.state[tuple(self.battery_pos)] = 1\n",
    "        else:\n",
    "          self.state[tuple(self.battery_pos)] = 2\n",
    "      if (self.super_battery_quantity > 0) :\n",
    "        if np.array_equal(self.agent_pos, self.super_battery_pos):\n",
    "          self.state[tuple(self.super_battery_pos)] = 1\n",
    "        else:\n",
    "          self.state[tuple(self.super_battery_pos)] = 3\n",
    "      if (self.rock1_quantity > 0) :\n",
    "        if np.array_equal(self.agent_pos, self.rock1_pos):\n",
    "          self.state[tuple(self.rock1_pos)] = 1\n",
    "        else:\n",
    "          self.state[tuple(self.rock1_pos)] = 4\n",
    "      if (self.rock2_quantity > 0) :\n",
    "        if np.array_equal(self.agent_pos, self.rock2_pos):\n",
    "          self.state[tuple(self.rock2_pos)] = 1\n",
    "        else:\n",
    "          self.state[tuple(self.rock2_pos)] = 4\n",
    "      if np.array_equal(self.agent_pos, self.goal_pos):\n",
    "        self.state[tuple(self.goal_pos)] = 1\n",
    "      else:\n",
    "        self.state[tuple(self.goal_pos)] = 5\n",
    "      observation = self.state.flatten()\n",
    "\n",
    "      if np.array_equal(self.agent_pos, self.goal_pos):\n",
    "        reward += 100\n",
    "      if np.array_equal(self.agent_pos, self.battery_pos) and (self.battery_quantity > 0):\n",
    "        reward += 3\n",
    "        self.battery_quantity -= 1\n",
    "      if np.array_equal(self.agent_pos, self.super_battery_pos) and (self.super_battery_quantity > 0):\n",
    "        reward += 5\n",
    "        self.super_battery_quantity -= 1\n",
    "      if np.array_equal(self.agent_pos, self.rock1_pos) and (self.rock1_quantity > 0):\n",
    "        reward -= 5\n",
    "        self.rock1_quantity -= 1\n",
    "      if np.array_equal(self.agent_pos, self.rock2_pos) and (self.rock2_quantity > 0):\n",
    "        reward -= 5\n",
    "        self.rock2_quantity -= 1\n",
    "\n",
    "      self.timestep += 1\n",
    "\n",
    "      # Condition to check for termination (episode is over)\n",
    "      terminated = True if (self.timestep >= self.max_timesteps) or (np.array_equal(self.agent_pos, self.goal_pos)) else False\n",
    "\n",
    "      info = {}\n",
    "\n",
    "      return observation, reward, terminated, truncated, info\n",
    "\n",
    "    # Render function: Visualizes the environment\n",
    "    def render(self, plot=False):\n",
    "      plt.title('Grid Environment')\n",
    "      plt.imshow(self.state)"
   ]
  },
  {
   "cell_type": "code",
   "execution_count": 6,
   "metadata": {
    "colab": {
     "base_uri": "https://localhost:8080/",
     "height": 452
    },
    "id": "zZNfOmZMH5MF",
    "outputId": "cfaa95e5-567f-4563-ff49-d34c9bef9fc7"
   },
   "outputs": [
    {
     "data": {
      "image/png": "[encoded data removed]",
      "text/plain": [
       "<Figure size 640x480 with 1 Axes>"
      ]
     },
     "metadata": {},
     "output_type": "display_data"
    }
   ],
   "source": [
    "env = GridEnvironment()\n",
    "\n",
    "terminated, truncated = False, False\n",
    "obs, info = env.reset()\n",
    "env.render()\n"
   ]
  },
  {
   "cell_type": "code",
   "execution_count": 7,
   "metadata": {
    "colab": {
     "base_uri": "https://localhost:8080/",
     "height": 452
    },
    "id": "zJin554vH5MF",
    "outputId": "d94d60d3-49f3-4037-e16b-4ff6d58403fd"
   },
   "outputs": [
    {
     "data": {
      "image/png": "[encoded data removed]",
      "text/plain": [
       "<Figure size 640x480 with 1 Axes>"
      ]
     },
     "metadata": {},
     "output_type": "display_data"
    }
   ],
   "source": [
    "action = 0\n",
    "observation, reward, done, truncated, info = env.step(action)\n",
    "env.render()"
   ]
  },
  {
   "cell_type": "code",
   "execution_count": 8,
   "metadata": {
    "colab": {
     "base_uri": "https://localhost:8080/",
     "height": 452
    },
    "id": "OGm6RYsdH5MF",
    "outputId": "b18e908a-ad60-4d6e-ac7b-4f7620c56e0c"
   },
   "outputs": [
    {
     "data": {
      "image/png": "[encoded data removed]",
      "text/plain": [
       "<Figure size 640x480 with 1 Axes>"
      ]
     },
     "metadata": {},
     "output_type": "display_data"
    }
   ],
   "source": [
    "action = 2\n",
    "observation, reward, done, truncated, info = env.step(action)\n",
    "env.render()"
   ]
  },
  {
   "cell_type": "code",
   "execution_count": 9,
   "metadata": {
    "colab": {
     "base_uri": "https://localhost:8080/",
     "height": 452
    },
    "id": "PgVf2KbCROHR",
    "outputId": "2f9fcd40-0dd5-456f-82b4-e5b4238200a5"
   },
   "outputs": [
    {
     "data": {
      "image/png": "[encoded data removed]",
      "text/plain": [
       "<Figure size 640x480 with 1 Axes>"
      ]
     },
     "metadata": {},
     "output_type": "display_data"
    }
   ],
   "source": [
    "action = 2\n",
    "observation, reward, done, truncated, info = env.step(action)\n",
    "env.render()"
   ]
  },
  {
   "cell_type": "code",
   "execution_count": 10,
   "metadata": {
    "colab": {
     "base_uri": "https://localhost:8080/",
     "height": 452
    },
    "id": "dtorwqPCcw4v",
    "outputId": "7424f61b-7027-4b78-e06c-3555f75a1e75"
   },
   "outputs": [
    {
     "data": {
      "image/png": "[encoded data removed]",
      "text/plain": [
       "<Figure size 640x480 with 1 Axes>"
      ]
     },
     "metadata": {},
     "output_type": "display_data"
    }
   ],
   "source": [
    "action = 2\n",
    "observation, reward, done, truncated, info = env.step(action)\n",
    "env.render()"
   ]
  },
  {
   "cell_type": "code",
   "execution_count": 12,
   "metadata": {
    "colab": {
     "base_uri": "https://localhost:8080/",
     "height": 452
    },
    "id": "fdfteR6_H5MF",
    "outputId": "23a9add1-16fe-4869-b879-6ca6ee77dea7"
   },
   "outputs": [
    {
     "data": {
      "image/png": "[encoded data removed]",
      "text/plain": [
       "<Figure size 640x480 with 1 Axes>"
      ]
     },
     "metadata": {},
     "output_type": "display_data"
    }
   ],
   "source": [
    "action = 1\n",
    "observation, reward, done, truncated, info = env.step(action)\n",
    "env.render()"
   ]
  },
  {
   "cell_type": "code",
   "execution_count": 13,
   "metadata": {
    "colab": {
     "base_uri": "https://localhost:8080/",
     "height": 452
    },
    "id": "FqRTSX06lfeC",
    "outputId": "6bbf0c57-239b-48fc-cccf-685b4857e779"
   },
   "outputs": [
    {
     "data": {
      "image/png": "[encoded data removed]",
      "text/plain": [
       "<Figure size 640x480 with 1 Axes>"
      ]
     },
     "metadata": {},
     "output_type": "display_data"
    }
   ],
   "source": [
    "action = 1\n",
    "observation, reward, done, truncated, info = env.step(action)\n",
    "env.render()"
   ]
  },
  {
   "cell_type": "code",
   "execution_count": 14,
   "metadata": {
    "colab": {
     "base_uri": "https://localhost:8080/",
     "height": 452
    },
    "id": "R42wV28Mlg6o",
    "outputId": "e76a47cb-b00d-42e4-b6e4-8182aaadd027"
   },
   "outputs": [
    {
     "data": {
      "image/png": "[encoded data removed]",
      "text/plain": [
       "<Figure size 640x480 with 1 Axes>"
      ]
     },
     "metadata": {},
     "output_type": "display_data"
    }
   ],
   "source": [
    "action = 1\n",
    "observation, reward, done, truncated, info = env.step(action)\n",
    "env.render()"
   ]
  },
  {
   "cell_type": "code",
   "execution_count": 15,
   "metadata": {
    "id": "Czjyx0D_L-it"
   },
   "outputs": [],
   "source": [
    "# Definition an agent that takes action randomly\n",
    "class RandomAgent:\n",
    "\n",
    "  def __init__(self, env):\n",
    "    self.env = env\n",
    "    self.observation_space = env.observation_space\n",
    "    self.action_space = env.action_space\n",
    "\n",
    "  def step(self, obs):\n",
    "    \"\"\"Takes a step in the environment by choosing an action randomly.\n",
    "\n",
    "    Args:\n",
    "        obs: The current observation.\n",
    "\n",
    "    Returns:\n",
    "        The action to take.\n",
    "    \"\"\"\n",
    "    return np.random.choice(self.action_space.n)"
   ]
  },
  {
   "cell_type": "code",
   "execution_count": 18,
   "metadata": {
    "colab": {
     "base_uri": "https://localhost:8080/",
     "height": 631
    },
    "id": "o333bWhuNIH3",
    "outputId": "929e8156-7fde-4a35-ea2e-0bc6c12800d8"
   },
   "outputs": [
    {
     "name": "stdout",
     "output_type": "stream",
     "text": [
      "Action: 0 , Reward: -100 , Done: False\n",
      "Action: 1 , Reward: 0 , Done: False\n",
      "Action: 0 , Reward: 0 , Done: False\n",
      "Action: 3 , Reward: -100 , Done: False\n",
      "Action: 1 , Reward: 0 , Done: False\n",
      "Action: 0 , Reward: 0 , Done: False\n",
      "Action: 2 , Reward: 0 , Done: False\n",
      "Action: 2 , Reward: -5 , Done: False\n",
      "Action: 1 , Reward: 0 , Done: False\n",
      "Action: 3 , Reward: 0 , Done: True\n"
     ]
    },
    {
     "data": {
      "image/png": "[encoded data removed]",
      "text/plain": [
       "<Figure size 640x480 with 1 Axes>"
      ]
     },
     "metadata": {},
     "output_type": "display_data"
    }
   ],
   "source": [
    "# Sample code for environment and agent implementation. Also shows\n",
    "# visualization of the random agent's movement across the grid. The yellow cell\n",
    "# shows the movement of the agent.\n",
    "\n",
    "if __name__ == '__main__':\n",
    "  env = GridEnvironment()\n",
    "  agent = RandomAgent(env)\n",
    "\n",
    "  obs, info = env.reset()\n",
    "  terminated, truncated = False, False\n",
    "\n",
    "  while not terminated:\n",
    "    action = agent.step(obs)\n",
    "    obs, reward, terminated, truncated, info = env.step(action)\n",
    "    print('Action:', action, ', Reward:', reward, ', Done:', terminated)\n",
    "    env.render()"
   ]
  },
  {
   "cell_type": "code",
   "execution_count": null,
   "metadata": {
    "id": "X2ynmAb6KOyg"
   },
   "outputs": [],
   "source": []
  }
 ],
 "metadata": {
  "colab": {
   "provenance": []
  },
  "kernelspec": {
   "display_name": "Python 3 (ipykernel)",
   "language": "python",
   "name": "python3"
  },
  "language_info": {
   "codemirror_mode": {
    "name": "ipython",
    "version": 3
   },
   "file_extension": ".py",
   "mimetype": "text/x-python",
   "name": "python",
   "nbconvert_exporter": "python",
   "pygments_lexer": "ipython3",
   "version": "3.10.7"
  }
 },
 "nbformat": 4,
 "nbformat_minor": 0
}
